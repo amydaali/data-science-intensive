{
 "cells": [
  {
   "cell_type": "markdown",
   "metadata": {},
   "source": [
    "# XML example and exercise\n",
    "****\n",
    "+ study examples of accessing nodes in XML tree structure  \n",
    "+ work on exercise to be completed and submitted\n",
    "****\n",
    "+ reference: https://docs.python.org/2.7/library/xml.etree.elementtree.html\n",
    "+ data source: http://www.dbis.informatik.uni-goettingen.de/Mondial\n",
    "****"
   ]
  },
  {
   "cell_type": "code",
   "execution_count": 261,
   "metadata": {
    "collapsed": true
   },
   "outputs": [],
   "source": [
    "from xml.etree import ElementTree as ET"
   ]
  },
  {
   "cell_type": "markdown",
   "metadata": {},
   "source": [
    "## XML example\n",
    "\n",
    "+ for details about tree traversal and iterators, see https://docs.python.org/2.7/library/xml.etree.elementtree.html"
   ]
  },
  {
   "cell_type": "code",
   "execution_count": 262,
   "metadata": {
    "collapsed": true
   },
   "outputs": [],
   "source": [
    "document_tree = ET.parse( './data/mondial_database_less.xml' )"
   ]
  },
  {
   "cell_type": "code",
   "execution_count": 263,
   "metadata": {
    "collapsed": false
   },
   "outputs": [
    {
     "name": "stdout",
     "output_type": "stream",
     "text": [
      "Albania\n",
      "Greece\n",
      "Macedonia\n",
      "Serbia\n",
      "Montenegro\n",
      "Kosovo\n",
      "Andorra\n"
     ]
    }
   ],
   "source": [
    "# print names of all countries\n",
    "for child in document_tree.getroot():\n",
    "    print(child.find('name').text)"
   ]
  },
  {
   "cell_type": "code",
   "execution_count": 264,
   "metadata": {
    "collapsed": false
   },
   "outputs": [
    {
     "name": "stdout",
     "output_type": "stream",
     "text": [
      "* Albania:\n",
      "Tirana, Shkodër, Durrës, Vlorë, Elbasan, Korçë\n",
      "* Greece:\n",
      "Komotini, Kavala, Athina, Peiraias, Peristeri, Acharnes, Patra, Kozani, Kerkyra, Ioannina, Thessaloniki, Iraklio, Chania, Ermoupoli, Rhodes, Tripoli, Lamia, Chalkida, Larissa, Volos, Mytilini, Karyes\n",
      "* Macedonia:\n",
      "Skopje, Kumanovo\n",
      "* Serbia:\n",
      "Beograd, Novi Sad, Niš\n",
      "* Montenegro:\n",
      "Podgorica\n",
      "* Kosovo:\n",
      "Prishtine\n",
      "* Andorra:\n",
      "Andorra la Vella\n"
     ]
    }
   ],
   "source": [
    "# print names of all countries and their cities\n",
    "for element in document_tree.iterfind('country'):\n",
    "    print('* ' + element.find('name').text + ':'),\n",
    "    capitals_string = ''\n",
    "    for subelement in element.getiterator('city'):\n",
    "        capitals_string += subelement.find('name').text + ', '\n",
    "    print(capitals_string[:-2])"
   ]
  },
  {
   "cell_type": "markdown",
   "metadata": {},
   "source": [
    "****\n",
    "## XML exercise\n",
    "\n",
    "Using data in 'data/mondial_database.xml', the examples above, and refering to https://docs.python.org/2.7/library/xml.etree.elementtree.html, find\n",
    "\n",
    "1. 10 countries with the lowest infant mortality rates\n",
    "2. 10 cities with the largest population\n",
    "3. 10 ethnic groups with the largest overall populations (sum of best/latest estimates over all countries)\n",
    "4. name and country of a) longest river, b) largest lake and c) airport at highest elevation"
   ]
  },
  {
   "cell_type": "code",
   "execution_count": 265,
   "metadata": {
    "collapsed": true
   },
   "outputs": [],
   "source": [
    "document = ET.parse( './data/mondial_database.xml' )"
   ]
  },
  {
   "cell_type": "markdown",
   "metadata": {},
   "source": [
    "#### Q1. \n",
    "\n",
    "10 countries with the lowest infant mortality rates."
   ]
  },
  {
   "cell_type": "code",
   "execution_count": 266,
   "metadata": {
    "collapsed": false
   },
   "outputs": [
    {
     "name": "stdout",
     "output_type": "stream",
     "text": [
      "Top 10 Infant Mortality Rates\n",
      "\n",
      "1. Country: Western Sahara - 145.82\n",
      "2. Country: Afghanistan - 117.23\n",
      "3. Country: Mali - 104.34\n",
      "4. Country: Somalia - 100.14\n",
      "5. Country: Central African Republic - 92.86\n",
      "6. Country: Guinea-Bissau - 90.92\n",
      "7. Country: Chad - 90.3\n",
      "8. Country: Niger - 86.27\n",
      "9. Country: Angola - 79.99\n",
      "10. Country: Burkina Faso - 76.8\n"
     ]
    }
   ],
   "source": [
    "root = document.getroot()\n",
    "infant_mortality_stats = []\n",
    "infant_mortality_stats_unavailable = []\n",
    "\n",
    "for country in root.findall('country'):\n",
    "    try:\n",
    "        infant_mortality_stats.append((country.find('name').text,float(country.find('infant_mortality').text)))\n",
    "    except:\n",
    "        infant_mortality_stats_unavailable.append(country.find('name').text)        \n",
    "infant_mortality_stats.sort(key = lambda x: x[1],reverse=True)\n",
    "\n",
    "print('Top 10 Infant Mortality Rates\\n')\n",
    "for stat in infant_mortality_stats[:10]:\n",
    "    print(\"{0}. Country: {1} - {2}\".format(infant_mortality_stats.index(stat)+1,stat[0],stat[1]))"
   ]
  },
  {
   "cell_type": "markdown",
   "metadata": {},
   "source": [
    "#### Q2\n",
    "\n",
    "10 cities with the largest population."
   ]
  },
  {
   "cell_type": "markdown",
   "metadata": {},
   "source": [
    "There are multiple populations associated with each city with the last one reported being the last in the tree. "
   ]
  },
  {
   "cell_type": "code",
   "execution_count": 267,
   "metadata": {
    "collapsed": false
   },
   "outputs": [
    {
     "name": "stdout",
     "output_type": "stream",
     "text": [
      "Top 10 Cities By Population\n",
      "\n",
      "1. Seoul - 9,708,483\n",
      "2. Al Qahirah - 8,471,859\n",
      "3. Bangkok - 7,506,700\n",
      "4. Hong Kong - 7,055,071\n",
      "5. Ho Chi Minh - 5,968,384\n",
      "6. Singapore - 5,076,700\n",
      "7. Al Iskandariyah - 4,123,869\n",
      "8. New Taipei - 3,939,305\n",
      "9. Busan - 3,403,135\n",
      "10. Pyongyang - 3,255,288\n"
     ]
    }
   ],
   "source": [
    "city_population = []\n",
    "city_population_unavailable = []\n",
    "\n",
    "for country in root.findall('country'):\n",
    "    for city in country.findall('city'):\n",
    "        population_data = [int(population.text) for population in city.findall('population')]\n",
    "        try:\n",
    "            city_population.append((city.find('name').text,population_data[-1]))\n",
    "        except:\n",
    "            city_population_unavailable.append(city.find('name').text)\n",
    "city_population.sort(key = lambda x: x[1],reverse=True)\n",
    "\n",
    "print('Top 10 Cities By Population\\n')\n",
    "for stat in city_population[:10]:\n",
    "    print(\"{0}. {1} - {2:,}\".format(city_population.index(stat)+1,stat[0],stat[1]))"
   ]
  },
  {
   "cell_type": "markdown",
   "metadata": {},
   "source": [
    "#### Q3\n",
    "\n",
    "10 ethnic groups with the largest overall populations (sum of best/latest estimates over all countries)."
   ]
  },
  {
   "cell_type": "code",
   "execution_count": 268,
   "metadata": {
    "collapsed": true
   },
   "outputs": [],
   "source": [
    "#First I find all the unique ethnicities.\n",
    "\n",
    "ethnicities = set()\n",
    "\n",
    "for country in root.findall('country'):\n",
    "    for ethnicity in country.findall('ethnicgroup'):\n",
    "        ethnicities.add(ethnicity.text)\n",
    "        \n",
    "ethnicity_pop_per_country = {}\n",
    "for ethnicity in ethnicities:\n",
    "    ethnicity_pop_per_country[ethnicity] = []"
   ]
  },
  {
   "cell_type": "code",
   "execution_count": 269,
   "metadata": {
    "collapsed": false
   },
   "outputs": [],
   "source": [
    "#Then I create of list of each ethnicity's population in a country where they are present.\n",
    "\n",
    "for country in root.findall('country'):\n",
    "    country_recent_population = int([pop for pop in country.findall('population')][-1].text)\n",
    "    for ethnicity in country.findall('ethnicgroup'):\n",
    "        ethnicity_pop_per_country[ethnicity.text].append(float(ethnicity.attrib['percentage'])*.01*country_recent_population)"
   ]
  },
  {
   "cell_type": "code",
   "execution_count": 270,
   "metadata": {
    "collapsed": false
   },
   "outputs": [
    {
     "name": "stdout",
     "output_type": "stream",
     "text": [
      "Top 10 Ethnicities By (Rounded) Population\n",
      "\n",
      "1. Han Chinese - 1,245,058,800\n",
      "2. Indo-Aryan - 871,815,583\n",
      "3. European - 494,872,219\n",
      "4. African - 318,325,120\n",
      "5. Dravidian - 302,713,744\n",
      "6. Mestizo - 157,734,354\n",
      "7. Bengali - 146,776,916\n",
      "8. Russian - 131,856,996\n",
      "9. Japanese - 126,534,212\n",
      "10. Malay - 121,993,550\n"
     ]
    }
   ],
   "source": [
    "#Finally, I compute the total population per ethnicity.\n",
    "\n",
    "ethnicity_total_pop = []\n",
    "\n",
    "for ethnicity, country_pops in ethnicity_pop_per_country.items():\n",
    "    ethnicity_total_pop.append((ethnicity, sum(country_pops)))    \n",
    "ethnicity_total_pop.sort(key=lambda x: x[1], reverse=True)\n",
    "\n",
    "print('Top 10 Ethnicities By (Rounded) Population\\n')\n",
    "for stat in ethnicity_total_pop[:10]:\n",
    "    print(\"{0}. {1} - {2:,}\".format(ethnicity_total_pop.index(stat)+1,stat[0],int(stat[1])))"
   ]
  },
  {
   "cell_type": "markdown",
   "metadata": {},
   "source": [
    "####Q4\n",
    "\n",
    "Name and country of a) longest river, b) largest lake and c) airport at highest elevation."
   ]
  },
  {
   "cell_type": "markdown",
   "metadata": {},
   "source": [
    "A reference of countries and their respective codes would be useful."
   ]
  },
  {
   "cell_type": "code",
   "execution_count": 271,
   "metadata": {
    "collapsed": true
   },
   "outputs": [],
   "source": [
    "country_codes = {}\n",
    "for country in root.findall('country'):\n",
    "    country_codes[country.attrib['car_code']] = country.find('name').text                          "
   ]
  },
  {
   "cell_type": "markdown",
   "metadata": {},
   "source": [
    "With three pieces of information to be stored, using a named tuple might be best."
   ]
  },
  {
   "cell_type": "code",
   "execution_count": 272,
   "metadata": {
    "collapsed": true
   },
   "outputs": [],
   "source": [
    "from collections import namedtuple as nt\n",
    "River = nt('river','country name length')\n",
    "Lake = nt('lake','country name area')\n",
    "Airport = nt('airport','country name elevation')"
   ]
  },
  {
   "cell_type": "markdown",
   "metadata": {},
   "source": [
    "For the rivers. (Some sleuthing reminded me that rivers run through multiple countries. I'll just take the first one listed, and repeat that process for the lakes and the airports.)"
   ]
  },
  {
   "cell_type": "code",
   "execution_count": 273,
   "metadata": {
    "collapsed": false
   },
   "outputs": [
    {
     "name": "stdout",
     "output_type": "stream",
     "text": [
      "No length info.\n",
      "No length info.\n",
      "No length info.\n",
      "No length info.\n",
      "No length info.\n",
      "\n",
      "The longest river is the Amazonas located in Colombia with a length of 6,448.0 kilometers.\n"
     ]
    }
   ],
   "source": [
    "rivers = []\n",
    "for river in root.findall('river'):\n",
    "    try:\n",
    "        rivers.append(River(country=country_codes[river.attrib['country'].split(' ')[0]], #Takes the first country listed\n",
    "                            name=river.find('name').text,\n",
    "                            length=float(river.find('length').text)))\n",
    "    except:\n",
    "        print('No length info.')\n",
    "    \n",
    "rivers.sort(key=lambda x: x.length, reverse=True)\n",
    "longest_river = rivers[0]\n",
    "print('\\nThe longest river is the {0} located in {1} with a length of {2:,} kilometers.'.format(longest_river.name,\n",
    "                                                                                longest_river.country,\n",
    "                                                                                longest_river.length))   "
   ]
  },
  {
   "cell_type": "markdown",
   "metadata": {},
   "source": [
    "For the lakes."
   ]
  },
  {
   "cell_type": "code",
   "execution_count": 274,
   "metadata": {
    "collapsed": false
   },
   "outputs": [
    {
     "name": "stdout",
     "output_type": "stream",
     "text": [
      "No area info.\n",
      "No area info.\n",
      "\n",
      "The biggest lake is the Caspian Sea located in Russia with an area of 386,400.0 square kilometers.\n"
     ]
    }
   ],
   "source": [
    "lakes = []\n",
    "for lake in root.findall('lake'):\n",
    "    try:\n",
    "        lakes.append(Lake(country=country_codes[lake.attrib['country'].split(' ')[0]],\n",
    "                            name=lake.find('name').\n",
    "                            text,area=float(lake.find('area').text)))\n",
    "    except:\n",
    "        print('No area info.')\n",
    "    \n",
    "lakes.sort(key=lambda x: x.area, reverse=True)\n",
    "largest_lake = lakes[0]\n",
    "print('\\nThe biggest lake is the {0} located in {1} with an area of {2:,} square kilometers.'.format(largest_lake.name,\n",
    "                                                                                largest_lake.country,\n",
    "                                                                                largest_lake.area))   "
   ]
  },
  {
   "cell_type": "markdown",
   "metadata": {},
   "source": [
    "For the airports."
   ]
  },
  {
   "cell_type": "code",
   "execution_count": 275,
   "metadata": {
    "collapsed": false
   },
   "outputs": [
    {
     "name": "stdout",
     "output_type": "stream",
     "text": [
      "No elevation info.\n",
      "No elevation info.\n",
      "No elevation info.\n",
      "No elevation info.\n",
      "No elevation info.\n",
      "No elevation info.\n",
      "No elevation info.\n",
      "No elevation info.\n",
      "No elevation info.\n",
      "No elevation info.\n",
      "No elevation info.\n",
      "No elevation info.\n",
      "No elevation info.\n",
      "No elevation info.\n",
      "No elevation info.\n",
      "No elevation info.\n",
      "No elevation info.\n",
      "No elevation info.\n",
      "No elevation info.\n",
      "No elevation info.\n",
      "No elevation info.\n",
      "No elevation info.\n",
      "No elevation info.\n",
      "No elevation info.\n",
      "No elevation info.\n",
      "No elevation info.\n",
      "\n",
      "The highest airport is El Alto Intl located in Bolivia with an elevation of 4,063 meters.\n"
     ]
    }
   ],
   "source": [
    "airports = []\n",
    "for airport in root.findall('airport'):\n",
    "    try:\n",
    "        airports.append(Airport(country=country_codes[airport.attrib['country']],\n",
    "                            name=airport.find('name').\n",
    "                            text,elevation=int(airport.find('elevation').text)))\n",
    "    except:\n",
    "        print('No elevation info.')\n",
    "\n",
    "airports.sort(key=lambda x: x.elevation, reverse=True)\n",
    "highest_airport = airports[0]\n",
    "print('\\nThe highest airport is {0} located in {1} with an elevation of {2:,} meters.'.format(highest_airport.name,\n",
    "                                                                                highest_airport.country,\n",
    "                                                                                highest_airport.elevation))   "
   ]
  },
  {
   "cell_type": "code",
   "execution_count": null,
   "metadata": {
    "collapsed": true
   },
   "outputs": [],
   "source": []
  }
 ],
 "metadata": {
  "kernelspec": {
   "display_name": "Python 3",
   "language": "python",
   "name": "python3"
  },
  "language_info": {
   "codemirror_mode": {
    "name": "ipython",
    "version": 3
   },
   "file_extension": ".py",
   "mimetype": "text/x-python",
   "name": "python",
   "nbconvert_exporter": "python",
   "pygments_lexer": "ipython3",
   "version": "3.4.3"
  }
 },
 "nbformat": 4,
 "nbformat_minor": 0
}
