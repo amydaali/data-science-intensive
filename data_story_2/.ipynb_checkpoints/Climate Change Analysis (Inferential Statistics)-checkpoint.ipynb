{
 "cells": [
  {
   "cell_type": "markdown",
   "metadata": {},
   "source": [
    "## Analyzing Climate Change Data with Inferential Statistics"
   ]
  },
  {
   "cell_type": "markdown",
   "metadata": {},
   "source": [
    "This data contains climate change data from May 1983 to December 2008, and comes from the ESRL/NOAA Physical Sciences Division. A description of the variables lies below.\n",
    "\n",
    ">Year: the observation year.\n",
    "\n",
    ">Month: the observation month.\n",
    "\n",
    ">Temp: the difference in degrees Celsius between the average global temperature in that period and a reference value. This data comes from the Climatic Research Unit at the University of East Anglia.\n",
    "\n",
    ">CO2, N2O, CH4, CFC.11, CFC.12: atmospheric concentrations of carbon dioxide (CO2), nitrous oxide (N2O), methane  (CH4), trichlorofluoromethane (CCl3F; commonly referred to as CFC-11) and dichlorodifluoromethane (CCl2F2; commonly referred to as CFC-12), respectively. This data comes from the ESRL/NOAA Global Monitoring Division.\n",
    "\n",
    ">* CO2, N2O and CH4 are expressed in ppmv (parts per million by volume  -- i.e., 397 ppmv of CO2 means that CO2 constitutes 397 millionths of the total volume of the atmosphere)\n",
    "\n",
    "\n",
    ">* CFC.11 and CFC.12 are expressed in ppbv (parts per billion by volume). \n",
    "\n",
    ">Aerosols: the mean stratospheric aerosol optical depth at 550 nm. This variable is linked to volcanoes, as volcanic eruptions result in new particles being added to the atmosphere, which affect how much of the sun's energy is reflected back into space. This data is from the Godard Institute for Space Studies at NASA.\n",
    "\n",
    ">TSI: the total solar irradiance (TSI) in W/m2 (the rate at which the sun's energy is deposited per unit area). Due to sunspots and other solar phenomena, the amount of energy that is given off by the sun varies substantially with time. This data is from the SOLARIS-HEPPA project website.\n",
    "\n",
    ">MEI: multivariate El Nino Southern Oscillation index (MEI), a measure of the strength of the El Nino/La Nina-Southern Oscillation (a weather effect in the Pacific Ocean that affects global temperatures). "
   ]
  },
  {
   "cell_type": "markdown",
   "metadata": {},
   "source": [
    "In Data Story 1 I did exploration and data visualization. Now I'll try to apply some inferential statistics."
   ]
  },
  {
   "cell_type": "code",
   "execution_count": 7,
   "metadata": {
    "collapsed": false
   },
   "outputs": [],
   "source": [
    "import pandas as pd\n",
    "import numpy as np\n",
    "import matplotlib.pyplot as plt\n",
    "%matplotlib inline\n",
    "plt.style.use('ggplot')"
   ]
  },
  {
   "cell_type": "code",
   "execution_count": 8,
   "metadata": {
    "collapsed": false
   },
   "outputs": [
    {
     "data": {
      "text/html": [
       "<div style=\"max-height:1000px;max-width:1500px;overflow:auto;\">\n",
       "<table border=\"1\" class=\"dataframe\">\n",
       "  <thead>\n",
       "    <tr style=\"text-align: right;\">\n",
       "      <th></th>\n",
       "      <th>Year</th>\n",
       "      <th>Month</th>\n",
       "      <th>MEI</th>\n",
       "      <th>CO2</th>\n",
       "      <th>CH4</th>\n",
       "      <th>N2O</th>\n",
       "      <th>CFC-11</th>\n",
       "      <th>CFC-12</th>\n",
       "      <th>TSI</th>\n",
       "      <th>Aerosols</th>\n",
       "      <th>Temp</th>\n",
       "    </tr>\n",
       "  </thead>\n",
       "  <tbody>\n",
       "    <tr>\n",
       "      <th>0</th>\n",
       "      <td> 1983</td>\n",
       "      <td> 5</td>\n",
       "      <td> 2.556</td>\n",
       "      <td> 345.96</td>\n",
       "      <td> 1638.59</td>\n",
       "      <td> 303.677</td>\n",
       "      <td> 191.324</td>\n",
       "      <td> 350.113</td>\n",
       "      <td> 1366.1024</td>\n",
       "      <td> 0.0863</td>\n",
       "      <td> 0.109</td>\n",
       "    </tr>\n",
       "    <tr>\n",
       "      <th>1</th>\n",
       "      <td> 1983</td>\n",
       "      <td> 6</td>\n",
       "      <td> 2.167</td>\n",
       "      <td> 345.52</td>\n",
       "      <td> 1633.71</td>\n",
       "      <td> 303.746</td>\n",
       "      <td> 192.057</td>\n",
       "      <td> 351.848</td>\n",
       "      <td> 1366.1208</td>\n",
       "      <td> 0.0794</td>\n",
       "      <td> 0.118</td>\n",
       "    </tr>\n",
       "    <tr>\n",
       "      <th>2</th>\n",
       "      <td> 1983</td>\n",
       "      <td> 7</td>\n",
       "      <td> 1.741</td>\n",
       "      <td> 344.15</td>\n",
       "      <td> 1633.22</td>\n",
       "      <td> 303.795</td>\n",
       "      <td> 192.818</td>\n",
       "      <td> 353.725</td>\n",
       "      <td> 1366.2850</td>\n",
       "      <td> 0.0731</td>\n",
       "      <td> 0.137</td>\n",
       "    </tr>\n",
       "    <tr>\n",
       "      <th>3</th>\n",
       "      <td> 1983</td>\n",
       "      <td> 8</td>\n",
       "      <td> 1.130</td>\n",
       "      <td> 342.25</td>\n",
       "      <td> 1631.35</td>\n",
       "      <td> 303.839</td>\n",
       "      <td> 193.602</td>\n",
       "      <td> 355.633</td>\n",
       "      <td> 1366.4202</td>\n",
       "      <td> 0.0673</td>\n",
       "      <td> 0.176</td>\n",
       "    </tr>\n",
       "    <tr>\n",
       "      <th>4</th>\n",
       "      <td> 1983</td>\n",
       "      <td> 9</td>\n",
       "      <td> 0.428</td>\n",
       "      <td> 340.17</td>\n",
       "      <td> 1648.40</td>\n",
       "      <td> 303.901</td>\n",
       "      <td> 194.392</td>\n",
       "      <td> 357.465</td>\n",
       "      <td> 1366.2335</td>\n",
       "      <td> 0.0619</td>\n",
       "      <td> 0.149</td>\n",
       "    </tr>\n",
       "  </tbody>\n",
       "</table>\n",
       "</div>"
      ],
      "text/plain": [
       "   Year  Month    MEI     CO2      CH4      N2O   CFC-11   CFC-12        TSI  \\\n",
       "0  1983      5  2.556  345.96  1638.59  303.677  191.324  350.113  1366.1024   \n",
       "1  1983      6  2.167  345.52  1633.71  303.746  192.057  351.848  1366.1208   \n",
       "2  1983      7  1.741  344.15  1633.22  303.795  192.818  353.725  1366.2850   \n",
       "3  1983      8  1.130  342.25  1631.35  303.839  193.602  355.633  1366.4202   \n",
       "4  1983      9  0.428  340.17  1648.40  303.901  194.392  357.465  1366.2335   \n",
       "\n",
       "   Aerosols   Temp  \n",
       "0    0.0863  0.109  \n",
       "1    0.0794  0.118  \n",
       "2    0.0731  0.137  \n",
       "3    0.0673  0.176  \n",
       "4    0.0619  0.149  "
      ]
     },
     "execution_count": 8,
     "metadata": {},
     "output_type": "execute_result"
    }
   ],
   "source": [
    "climate_data = pd.read_csv('./data/climate_change.csv')\n",
    "climate_data.head(5)"
   ]
  },
  {
   "cell_type": "code",
   "execution_count": 9,
   "metadata": {
    "collapsed": false
   },
   "outputs": [
    {
     "name": "stdout",
     "output_type": "stream",
     "text": [
      "There are 308 records in this data set.\n"
     ]
    }
   ],
   "source": [
    "print('There are {} records in this data set.'.format(len(climate_data)))"
   ]
  },
  {
   "cell_type": "code",
   "execution_count": 10,
   "metadata": {
    "collapsed": false,
    "scrolled": true
   },
   "outputs": [
    {
     "data": {
      "text/plain": [
       "Year          int64\n",
       "Month         int64\n",
       "MEI         float64\n",
       "CO2         float64\n",
       "CH4         float64\n",
       "N2O         float64\n",
       "CFC-11      float64\n",
       "CFC-12      float64\n",
       "TSI         float64\n",
       "Aerosols    float64\n",
       "Temp        float64\n",
       "dtype: object"
      ]
     },
     "execution_count": 10,
     "metadata": {},
     "output_type": "execute_result"
    }
   ],
   "source": [
    "climate_data.dtypes"
   ]
  },
  {
   "cell_type": "markdown",
   "metadata": {},
   "source": [
    "Some important points of note from my previous exploration were that there are no missing values and that 1983 has no data for the first four months of the year.\n",
    "\n",
    "I'll take a look at the descriptions and correlations again."
   ]
  },
  {
   "cell_type": "code",
   "execution_count": 11,
   "metadata": {
    "collapsed": false,
    "scrolled": true
   },
   "outputs": [
    {
     "data": {
      "text/html": [
       "<div style=\"max-height:1000px;max-width:1500px;overflow:auto;\">\n",
       "<table border=\"1\" class=\"dataframe\">\n",
       "  <thead>\n",
       "    <tr style=\"text-align: right;\">\n",
       "      <th></th>\n",
       "      <th>Year</th>\n",
       "      <th>Month</th>\n",
       "      <th>MEI</th>\n",
       "      <th>CO2</th>\n",
       "      <th>CH4</th>\n",
       "      <th>N2O</th>\n",
       "      <th>CFC-11</th>\n",
       "      <th>CFC-12</th>\n",
       "      <th>TSI</th>\n",
       "      <th>Aerosols</th>\n",
       "      <th>Temp</th>\n",
       "    </tr>\n",
       "  </thead>\n",
       "  <tbody>\n",
       "    <tr>\n",
       "      <th>count</th>\n",
       "      <td>  308.000000</td>\n",
       "      <td> 308.000000</td>\n",
       "      <td> 308.000000</td>\n",
       "      <td> 308.000000</td>\n",
       "      <td>  308.000000</td>\n",
       "      <td> 308.000000</td>\n",
       "      <td> 308.000000</td>\n",
       "      <td> 308.000000</td>\n",
       "      <td>  308.000000</td>\n",
       "      <td> 308.000000</td>\n",
       "      <td> 308.000000</td>\n",
       "    </tr>\n",
       "    <tr>\n",
       "      <th>mean</th>\n",
       "      <td> 1995.662338</td>\n",
       "      <td>   6.551948</td>\n",
       "      <td>   0.275555</td>\n",
       "      <td> 363.226753</td>\n",
       "      <td> 1749.824513</td>\n",
       "      <td> 312.391834</td>\n",
       "      <td> 251.973068</td>\n",
       "      <td> 497.524782</td>\n",
       "      <td> 1366.070759</td>\n",
       "      <td>   0.016657</td>\n",
       "      <td>   0.256776</td>\n",
       "    </tr>\n",
       "    <tr>\n",
       "      <th>std</th>\n",
       "      <td>    7.423197</td>\n",
       "      <td>   3.447214</td>\n",
       "      <td>   0.937918</td>\n",
       "      <td>  12.647125</td>\n",
       "      <td>   46.051678</td>\n",
       "      <td>   5.225131</td>\n",
       "      <td>  20.231783</td>\n",
       "      <td>  57.826899</td>\n",
       "      <td>    0.399610</td>\n",
       "      <td>   0.029050</td>\n",
       "      <td>   0.179090</td>\n",
       "    </tr>\n",
       "    <tr>\n",
       "      <th>min</th>\n",
       "      <td> 1983.000000</td>\n",
       "      <td>   1.000000</td>\n",
       "      <td>  -1.635000</td>\n",
       "      <td> 340.170000</td>\n",
       "      <td> 1629.890000</td>\n",
       "      <td> 303.677000</td>\n",
       "      <td> 191.324000</td>\n",
       "      <td> 350.113000</td>\n",
       "      <td> 1365.426100</td>\n",
       "      <td>   0.001600</td>\n",
       "      <td>  -0.282000</td>\n",
       "    </tr>\n",
       "    <tr>\n",
       "      <th>25%</th>\n",
       "      <td> 1989.000000</td>\n",
       "      <td>   4.000000</td>\n",
       "      <td>  -0.398750</td>\n",
       "      <td> 353.020000</td>\n",
       "      <td> 1722.182500</td>\n",
       "      <td> 308.111500</td>\n",
       "      <td> 246.295500</td>\n",
       "      <td> 472.410750</td>\n",
       "      <td> 1365.717050</td>\n",
       "      <td>   0.002800</td>\n",
       "      <td>   0.121750</td>\n",
       "    </tr>\n",
       "    <tr>\n",
       "      <th>50%</th>\n",
       "      <td> 1996.000000</td>\n",
       "      <td>   7.000000</td>\n",
       "      <td>   0.237500</td>\n",
       "      <td> 361.735000</td>\n",
       "      <td> 1764.040000</td>\n",
       "      <td> 311.507000</td>\n",
       "      <td> 258.344000</td>\n",
       "      <td> 528.356000</td>\n",
       "      <td> 1365.980900</td>\n",
       "      <td>   0.005750</td>\n",
       "      <td>   0.248000</td>\n",
       "    </tr>\n",
       "    <tr>\n",
       "      <th>75%</th>\n",
       "      <td> 2002.000000</td>\n",
       "      <td>  10.000000</td>\n",
       "      <td>   0.830500</td>\n",
       "      <td> 373.455000</td>\n",
       "      <td> 1786.885000</td>\n",
       "      <td> 316.979000</td>\n",
       "      <td> 267.031000</td>\n",
       "      <td> 540.524250</td>\n",
       "      <td> 1366.363250</td>\n",
       "      <td>   0.012600</td>\n",
       "      <td>   0.407250</td>\n",
       "    </tr>\n",
       "    <tr>\n",
       "      <th>max</th>\n",
       "      <td> 2008.000000</td>\n",
       "      <td>  12.000000</td>\n",
       "      <td>   3.001000</td>\n",
       "      <td> 388.500000</td>\n",
       "      <td> 1814.180000</td>\n",
       "      <td> 322.182000</td>\n",
       "      <td> 271.494000</td>\n",
       "      <td> 543.813000</td>\n",
       "      <td> 1367.316200</td>\n",
       "      <td>   0.149400</td>\n",
       "      <td>   0.739000</td>\n",
       "    </tr>\n",
       "  </tbody>\n",
       "</table>\n",
       "</div>"
      ],
      "text/plain": [
       "              Year       Month         MEI         CO2          CH4  \\\n",
       "count   308.000000  308.000000  308.000000  308.000000   308.000000   \n",
       "mean   1995.662338    6.551948    0.275555  363.226753  1749.824513   \n",
       "std       7.423197    3.447214    0.937918   12.647125    46.051678   \n",
       "min    1983.000000    1.000000   -1.635000  340.170000  1629.890000   \n",
       "25%    1989.000000    4.000000   -0.398750  353.020000  1722.182500   \n",
       "50%    1996.000000    7.000000    0.237500  361.735000  1764.040000   \n",
       "75%    2002.000000   10.000000    0.830500  373.455000  1786.885000   \n",
       "max    2008.000000   12.000000    3.001000  388.500000  1814.180000   \n",
       "\n",
       "              N2O      CFC-11      CFC-12          TSI    Aerosols        Temp  \n",
       "count  308.000000  308.000000  308.000000   308.000000  308.000000  308.000000  \n",
       "mean   312.391834  251.973068  497.524782  1366.070759    0.016657    0.256776  \n",
       "std      5.225131   20.231783   57.826899     0.399610    0.029050    0.179090  \n",
       "min    303.677000  191.324000  350.113000  1365.426100    0.001600   -0.282000  \n",
       "25%    308.111500  246.295500  472.410750  1365.717050    0.002800    0.121750  \n",
       "50%    311.507000  258.344000  528.356000  1365.980900    0.005750    0.248000  \n",
       "75%    316.979000  267.031000  540.524250  1366.363250    0.012600    0.407250  \n",
       "max    322.182000  271.494000  543.813000  1367.316200    0.149400    0.739000  "
      ]
     },
     "execution_count": 11,
     "metadata": {},
     "output_type": "execute_result"
    }
   ],
   "source": [
    "climate_data.describe()"
   ]
  },
  {
   "cell_type": "code",
   "execution_count": 12,
   "metadata": {
    "collapsed": false
   },
   "outputs": [
    {
     "data": {
      "text/html": [
       "<div style=\"max-height:1000px;max-width:1500px;overflow:auto;\">\n",
       "<table border=\"1\" class=\"dataframe\">\n",
       "  <thead>\n",
       "    <tr style=\"text-align: right;\">\n",
       "      <th></th>\n",
       "      <th>Year</th>\n",
       "      <th>Month</th>\n",
       "      <th>MEI</th>\n",
       "      <th>CO2</th>\n",
       "      <th>CH4</th>\n",
       "      <th>N2O</th>\n",
       "      <th>CFC-11</th>\n",
       "      <th>CFC-12</th>\n",
       "      <th>TSI</th>\n",
       "      <th>Aerosols</th>\n",
       "      <th>Temp</th>\n",
       "    </tr>\n",
       "  </thead>\n",
       "  <tbody>\n",
       "    <tr>\n",
       "      <th>Year</th>\n",
       "      <td> 1.000000</td>\n",
       "      <td>-0.025789</td>\n",
       "      <td>-0.145345</td>\n",
       "      <td> 0.985379</td>\n",
       "      <td> 0.910563</td>\n",
       "      <td> 0.994850</td>\n",
       "      <td> 0.460965</td>\n",
       "      <td> 0.870067</td>\n",
       "      <td> 0.022353</td>\n",
       "      <td>-0.361884</td>\n",
       "      <td> 0.755731</td>\n",
       "    </tr>\n",
       "    <tr>\n",
       "      <th>Month</th>\n",
       "      <td>-0.025789</td>\n",
       "      <td> 1.000000</td>\n",
       "      <td>-0.016345</td>\n",
       "      <td>-0.096287</td>\n",
       "      <td> 0.017558</td>\n",
       "      <td> 0.012395</td>\n",
       "      <td>-0.014914</td>\n",
       "      <td>-0.001084</td>\n",
       "      <td>-0.032754</td>\n",
       "      <td> 0.014845</td>\n",
       "      <td>-0.098016</td>\n",
       "    </tr>\n",
       "    <tr>\n",
       "      <th>MEI</th>\n",
       "      <td>-0.145345</td>\n",
       "      <td>-0.016345</td>\n",
       "      <td> 1.000000</td>\n",
       "      <td>-0.152911</td>\n",
       "      <td>-0.105555</td>\n",
       "      <td>-0.162375</td>\n",
       "      <td> 0.088171</td>\n",
       "      <td>-0.039836</td>\n",
       "      <td>-0.076826</td>\n",
       "      <td> 0.352351</td>\n",
       "      <td> 0.135292</td>\n",
       "    </tr>\n",
       "    <tr>\n",
       "      <th>CO2</th>\n",
       "      <td> 0.985379</td>\n",
       "      <td>-0.096287</td>\n",
       "      <td>-0.152911</td>\n",
       "      <td> 1.000000</td>\n",
       "      <td> 0.872253</td>\n",
       "      <td> 0.981135</td>\n",
       "      <td> 0.401284</td>\n",
       "      <td> 0.823210</td>\n",
       "      <td> 0.017867</td>\n",
       "      <td>-0.369265</td>\n",
       "      <td> 0.748505</td>\n",
       "    </tr>\n",
       "    <tr>\n",
       "      <th>CH4</th>\n",
       "      <td> 0.910563</td>\n",
       "      <td> 0.017558</td>\n",
       "      <td>-0.105555</td>\n",
       "      <td> 0.872253</td>\n",
       "      <td> 1.000000</td>\n",
       "      <td> 0.894409</td>\n",
       "      <td> 0.713504</td>\n",
       "      <td> 0.958237</td>\n",
       "      <td> 0.146335</td>\n",
       "      <td>-0.290381</td>\n",
       "      <td> 0.699697</td>\n",
       "    </tr>\n",
       "    <tr>\n",
       "      <th>N2O</th>\n",
       "      <td> 0.994850</td>\n",
       "      <td> 0.012395</td>\n",
       "      <td>-0.162375</td>\n",
       "      <td> 0.981135</td>\n",
       "      <td> 0.894409</td>\n",
       "      <td> 1.000000</td>\n",
       "      <td> 0.412155</td>\n",
       "      <td> 0.839295</td>\n",
       "      <td> 0.039892</td>\n",
       "      <td>-0.353499</td>\n",
       "      <td> 0.743242</td>\n",
       "    </tr>\n",
       "    <tr>\n",
       "      <th>CFC-11</th>\n",
       "      <td> 0.460965</td>\n",
       "      <td>-0.014914</td>\n",
       "      <td> 0.088171</td>\n",
       "      <td> 0.401284</td>\n",
       "      <td> 0.713504</td>\n",
       "      <td> 0.412155</td>\n",
       "      <td> 1.000000</td>\n",
       "      <td> 0.831381</td>\n",
       "      <td> 0.284629</td>\n",
       "      <td>-0.032302</td>\n",
       "      <td> 0.380111</td>\n",
       "    </tr>\n",
       "    <tr>\n",
       "      <th>CFC-12</th>\n",
       "      <td> 0.870067</td>\n",
       "      <td>-0.001084</td>\n",
       "      <td>-0.039836</td>\n",
       "      <td> 0.823210</td>\n",
       "      <td> 0.958237</td>\n",
       "      <td> 0.839295</td>\n",
       "      <td> 0.831381</td>\n",
       "      <td> 1.000000</td>\n",
       "      <td> 0.189270</td>\n",
       "      <td>-0.243785</td>\n",
       "      <td> 0.688944</td>\n",
       "    </tr>\n",
       "    <tr>\n",
       "      <th>TSI</th>\n",
       "      <td> 0.022353</td>\n",
       "      <td>-0.032754</td>\n",
       "      <td>-0.076826</td>\n",
       "      <td> 0.017867</td>\n",
       "      <td> 0.146335</td>\n",
       "      <td> 0.039892</td>\n",
       "      <td> 0.284629</td>\n",
       "      <td> 0.189270</td>\n",
       "      <td> 1.000000</td>\n",
       "      <td> 0.083238</td>\n",
       "      <td> 0.182186</td>\n",
       "    </tr>\n",
       "    <tr>\n",
       "      <th>Aerosols</th>\n",
       "      <td>-0.361884</td>\n",
       "      <td> 0.014845</td>\n",
       "      <td> 0.352351</td>\n",
       "      <td>-0.369265</td>\n",
       "      <td>-0.290381</td>\n",
       "      <td>-0.353499</td>\n",
       "      <td>-0.032302</td>\n",
       "      <td>-0.243785</td>\n",
       "      <td> 0.083238</td>\n",
       "      <td> 1.000000</td>\n",
       "      <td>-0.392069</td>\n",
       "    </tr>\n",
       "    <tr>\n",
       "      <th>Temp</th>\n",
       "      <td> 0.755731</td>\n",
       "      <td>-0.098016</td>\n",
       "      <td> 0.135292</td>\n",
       "      <td> 0.748505</td>\n",
       "      <td> 0.699697</td>\n",
       "      <td> 0.743242</td>\n",
       "      <td> 0.380111</td>\n",
       "      <td> 0.688944</td>\n",
       "      <td> 0.182186</td>\n",
       "      <td>-0.392069</td>\n",
       "      <td> 1.000000</td>\n",
       "    </tr>\n",
       "  </tbody>\n",
       "</table>\n",
       "</div>"
      ],
      "text/plain": [
       "              Year     Month       MEI       CO2       CH4       N2O  \\\n",
       "Year      1.000000 -0.025789 -0.145345  0.985379  0.910563  0.994850   \n",
       "Month    -0.025789  1.000000 -0.016345 -0.096287  0.017558  0.012395   \n",
       "MEI      -0.145345 -0.016345  1.000000 -0.152911 -0.105555 -0.162375   \n",
       "CO2       0.985379 -0.096287 -0.152911  1.000000  0.872253  0.981135   \n",
       "CH4       0.910563  0.017558 -0.105555  0.872253  1.000000  0.894409   \n",
       "N2O       0.994850  0.012395 -0.162375  0.981135  0.894409  1.000000   \n",
       "CFC-11    0.460965 -0.014914  0.088171  0.401284  0.713504  0.412155   \n",
       "CFC-12    0.870067 -0.001084 -0.039836  0.823210  0.958237  0.839295   \n",
       "TSI       0.022353 -0.032754 -0.076826  0.017867  0.146335  0.039892   \n",
       "Aerosols -0.361884  0.014845  0.352351 -0.369265 -0.290381 -0.353499   \n",
       "Temp      0.755731 -0.098016  0.135292  0.748505  0.699697  0.743242   \n",
       "\n",
       "            CFC-11    CFC-12       TSI  Aerosols      Temp  \n",
       "Year      0.460965  0.870067  0.022353 -0.361884  0.755731  \n",
       "Month    -0.014914 -0.001084 -0.032754  0.014845 -0.098016  \n",
       "MEI       0.088171 -0.039836 -0.076826  0.352351  0.135292  \n",
       "CO2       0.401284  0.823210  0.017867 -0.369265  0.748505  \n",
       "CH4       0.713504  0.958237  0.146335 -0.290381  0.699697  \n",
       "N2O       0.412155  0.839295  0.039892 -0.353499  0.743242  \n",
       "CFC-11    1.000000  0.831381  0.284629 -0.032302  0.380111  \n",
       "CFC-12    0.831381  1.000000  0.189270 -0.243785  0.688944  \n",
       "TSI       0.284629  0.189270  1.000000  0.083238  0.182186  \n",
       "Aerosols -0.032302 -0.243785  0.083238  1.000000 -0.392069  \n",
       "Temp      0.380111  0.688944  0.182186 -0.392069  1.000000  "
      ]
     },
     "execution_count": 12,
     "metadata": {},
     "output_type": "execute_result"
    }
   ],
   "source": [
    "climate_data.corr()"
   ]
  },
  {
   "cell_type": "markdown",
   "metadata": {},
   "source": [
    "There isn't much here that I did look at in Data Story 1. In terms of inferential statistics, the year on year temperatures seems to be the most interesting. Is there a way to measure the significance of the temperature difference? Is there case for worry with regard to climate change? It's a micro version of climate change vs. climate change denial. I'll first take a look at the mean temperature by year."
   ]
  },
  {
   "cell_type": "code",
   "execution_count": 16,
   "metadata": {
    "collapsed": false
   },
   "outputs": [
    {
     "name": "stderr",
     "output_type": "stream",
     "text": [
      "C:\\Users\\Gordon\\Anaconda3\\lib\\site-packages\\matplotlib\\axes\\_axes.py:475: UserWarning: No labelled objects found. Use label='...' kwarg on individual plots.\n",
      "  warnings.warn(\"No labelled objects found. \"\n"
     ]
    },
    {
     "data": {
      "text/plain": [
       "<matplotlib.text.Text at 0x81ed5f8>"
      ]
     },
     "execution_count": 16,
     "metadata": {},
     "output_type": "execute_result"
    },
    {
     "data": {
      "image/png": "[encoded data removed]",
      "text/plain": [
       "<matplotlib.figure.Figure at 0x7effa58>"
      ]
     },
     "metadata": {},
     "output_type": "display_data"
    }
   ],
   "source": [
    "climate_data_by_year = climate_data.groupby(['Year']).agg([np.mean])\n",
    "climate_data_by_year = climate_data_by_year.drop('Month',1)\n",
    "\n",
    "plt.plot(climate_data_by_year.index,climate_data_by_year.Temp['mean'])\n",
    "plt.xlim((1983,2008))\n",
    "plt.legend(loc = 'upper left')\n",
    "plt.xlabel('Year')\n",
    "plt.title('Mean Temperature Difference By Year')\n",
    "plt.ylabel('Temperature Difference')"
   ]
  },
  {
   "cell_type": "markdown",
   "metadata": {},
   "source": [
    "in this data this mean temperature difference fluctuates but is generally increasing. The mean across all years is:"
   ]
  },
  {
   "cell_type": "code",
   "execution_count": 20,
   "metadata": {
    "collapsed": false
   },
   "outputs": [],
   "source": [
    "sample_mean = climate_data.Temp.mean()"
   ]
  },
  {
   "cell_type": "markdown",
   "metadata": {},
   "source": [
    "If the temperature difference was insignificant, I'd expect the mean to be about 0. From that platform I can construct my test.\n",
    "\n",
    "$H_0: \\mu = 0$\n",
    "\n",
    "$H_A: \\mu > 0$\n",
    "\n",
    "Now to do this one sided hypothesis test with $\\alpha = .01$."
   ]
  },
  {
   "cell_type": "code",
   "execution_count": 22,
   "metadata": {
    "collapsed": false
   },
   "outputs": [
    {
     "data": {
      "text/plain": [
       "(25.162800195077473, 5.1180717698623614e-140)"
      ]
     },
     "execution_count": 22,
     "metadata": {},
     "output_type": "execute_result"
    }
   ],
   "source": [
    "from statsmodels.stats.weightstats import ztest\n",
    "ztest(climate_data.Temp,alternative='larger',value=0)"
   ]
  },
  {
   "cell_type": "markdown",
   "metadata": {},
   "source": [
    "It's a miniscule p-value. Thus, I would reject the null hypothesis that the mean temperature difference is close to 0. Out of curiousity, I'll test the sample mean as well."
   ]
  },
  {
   "cell_type": "code",
   "execution_count": 23,
   "metadata": {
    "collapsed": false
   },
   "outputs": [
    {
     "data": {
      "text/plain": [
       "(0.0, 0.5)"
      ]
     },
     "execution_count": 23,
     "metadata": {},
     "output_type": "execute_result"
    }
   ],
   "source": [
    "ztest(climate_data.Temp, alternative='larger', value=sample_mean)"
   ]
  },
  {
   "cell_type": "markdown",
   "metadata": {},
   "source": [
    "Here I would fail to reject the null hypothesis. The temperature difference is significant."
   ]
  },
  {
   "cell_type": "markdown",
   "metadata": {},
   "source": [
    "#### Conclusions\n",
    "\n",
    "The sample is small, but I think this analysis is a small shout among the deafening noise that climate change is a reality."
   ]
  },
  {
   "cell_type": "code",
   "execution_count": null,
   "metadata": {
    "collapsed": true
   },
   "outputs": [],
   "source": []
  }
 ],
 "metadata": {
  "kernelspec": {
   "display_name": "Python 3",
   "language": "python",
   "name": "python3"
  },
  "language_info": {
   "codemirror_mode": {
    "name": "ipython",
    "version": 3
   },
   "file_extension": ".py",
   "mimetype": "text/x-python",
   "name": "python",
   "nbconvert_exporter": "python",
   "pygments_lexer": "ipython3",
   "version": "3.4.3"
  }
 },
 "nbformat": 4,
 "nbformat_minor": 0
}
